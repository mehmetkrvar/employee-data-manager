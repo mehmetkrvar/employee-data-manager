{
 "cells": [
  {
   "attachments": {},
   "cell_type": "markdown",
   "metadata": {},
   "source": [
    "# Kyphosis is a severe curvature of the spine. The kyphosis data frame in the rpart library presents history of 81 children who had corrective spinal surgery and whether this resulted in kyphosis. The data frame includes three additional variables indicating the extent of the surgery and the child’s age in months."
   ]
  },
  {
   "attachments": {},
   "cell_type": "markdown",
   "metadata": {},
   "source": [
    "(a) Use regression trees to identify risk factors for kyphosis."
   ]
  },
  {
   "cell_type": "code",
   "execution_count": null,
   "metadata": {},
   "outputs": [],
   "source": [
    "# İhtiyaç duyulan paketlerin yüklenmesi\n",
    "install.packages(\"rpart\")\n",
    "library(rpart)\n",
    "\n",
    "# Kyphosis veri çerçevesini rpart paketinden yükleyelim\n",
    "data(\"kyphosis\", package = \"rpart\")"
   ]
  },
  {
   "cell_type": "code",
   "execution_count": null,
   "metadata": {},
   "outputs": [],
   "source": [
    "# Veri çerçevesine genel bir bakış\n",
    "str(kyphosis)\n",
    "head(kyphosis)"
   ]
  },
  {
   "cell_type": "code",
   "execution_count": null,
   "metadata": {},
   "outputs": [],
   "source": [
    "# Regresyon ağacının oluşturulması\n",
    "kyphosis_tree <- rpart(Kyphosis ~ Age + Number + Start, \n",
    "                       data = kyphosis, \n",
    "                       method = \"class\")\n",
    "\n",
    "# Ağacın görselleştirilmesi\n",
    "plot(kyphosis_tree)\n",
    "text(kyphosis_tree)"
   ]
  },
  {
   "attachments": {},
   "cell_type": "markdown",
   "metadata": {},
   "source": [
    "(b) Similarly, use logistic regression to build a linear model of the\n",
    "log-odds risk of kyphosis."
   ]
  },
  {
   "cell_type": "code",
   "execution_count": null,
   "metadata": {},
   "outputs": [],
   "source": [
    "# Logistic Regression modelinin oluşturulması\n",
    "kyphosis_logit <- glm(Kyphosis ~ Age + Number + Start, \n",
    "                      data = kyphosis, \n",
    "                      family = \"binomial\")\n",
    "\n",
    "# Model özetinin alınması\n",
    "summary(kyphosis_logit)"
   ]
  },
  {
   "attachments": {},
   "cell_type": "markdown",
   "metadata": {},
   "source": [
    "(c) Discuss these two different approaches to modeling kyphosis.\n",
    "Which model is more intuitive? Which is easier to explain and use?"
   ]
  }
 ],
 "metadata": {
  "kernelspec": {
   "display_name": "Python 3",
   "language": "python",
   "name": "python3"
  },
  "language_info": {
   "codemirror_mode": {
    "name": "ipython",
    "version": 3
   },
   "file_extension": ".py",
   "mimetype": "text/x-python",
   "name": "python",
   "nbconvert_exporter": "python",
   "pygments_lexer": "ipython3",
   "version": "3.11.3"
  },
  "orig_nbformat": 4
 },
 "nbformat": 4,
 "nbformat_minor": 2
}
